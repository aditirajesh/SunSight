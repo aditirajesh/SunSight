{
 "cells": [
  {
   "cell_type": "code",
   "execution_count": 47,
   "metadata": {},
   "outputs": [],
   "source": [
    "from plant_processing import Source \n",
    "import pandas as pd \n",
    "import matplotlib.pyplot as plt \n",
    "import numpy as np \n",
    "import requests \n",
    "from datetime import date"
   ]
  },
  {
   "cell_type": "code",
   "execution_count": 48,
   "metadata": {},
   "outputs": [
    {
     "name": "stdout",
     "output_type": "stream",
     "text": [
      "https://api.openweathermap.org/energy/1.0/solar/interval_data?lat=13.08268&lon=80.270721&date=2024-05-11&interval=15m&tz=+05:30&appid=yourapi\n"
     ]
    }
   ],
   "source": [
    "api_key = \"YOUR API KEY\"\n",
    "latitude = 13.082680\n",
    "longitude = 80.270721\n",
    "date = date.today()\n",
    "interval  = \"15m\"  #15 minute intervals\n",
    "\n",
    "url_sunhours = \"https://api.openweathermap.org/energy/1.0/solar/interval_data?lat={}&lon={}&date={}&interval={}&tz=+05:30&appid={}\".format(latitude,longitude,date,interval,api_key)\n",
    "\n",
    "print(url_sunhours)"
   ]
  },
  {
   "cell_type": "markdown",
   "metadata": {},
   "source": [
    "Importing the dataset that has been processed"
   ]
  },
  {
   "cell_type": "code",
   "execution_count": 49,
   "metadata": {},
   "outputs": [
    {
     "name": "stdout",
     "output_type": "stream",
     "text": [
      "          DATE  AMBIENT_TEMP  MODULE_TEMP  SUN_HOURS        YIELD\n",
      "0   2020-05-15     30.101998    40.874126   4.758980  6176.000000\n",
      "1   2020-05-16     28.693978    38.971222   4.662886  6450.000000\n",
      "2   2020-05-17     29.629909    42.436575   5.732761  7391.000000\n",
      "3   2020-05-18     25.220109    33.840217   3.816491  5286.000000\n",
      "4   2020-05-19     27.493836    38.077856   4.511132  6790.000000\n",
      "5   2020-05-20     27.210057    40.353065   4.561357  8663.750000\n",
      "6   2020-05-21     29.383561    45.335427   5.889043  7598.571429\n",
      "7   2020-05-22     28.612870    41.123396   5.529507  7000.000000\n",
      "8   2020-05-23     29.387591    45.663036   6.526639  8394.857143\n",
      "9   2020-05-24     29.915382    43.727070   6.233824  7554.750000\n",
      "10  2020-05-25     29.942647    45.106869   6.807852  8085.000000\n",
      "11  2020-05-26     29.596173    43.869744   6.062268  7712.000000\n",
      "12  2020-05-27     29.593112    41.672768   5.134159  6564.000000\n",
      "13  2020-05-28     29.773013    43.832226   6.507684  8314.750000\n",
      "14  2020-05-29     28.059088    44.418995   6.198915  7951.000000\n",
      "15  2020-05-30     26.875039    39.174292   5.468500  7146.000000\n",
      "16  2020-05-31     27.066154    37.553291   4.406041  5965.000000\n",
      "17  2020-06-01     26.643287    36.410168   4.412275  5751.000000\n",
      "18  2020-06-02     25.978487    37.300929   5.370852  7326.333333\n",
      "19  2020-06-03     26.378540    37.922651   5.481865  7698.625000\n",
      "20  2020-06-04     27.261680    40.536792   6.167637  8009.000000\n",
      "21  2020-06-05     26.717116    39.711987   5.797920  7456.500000\n",
      "22  2020-06-06     26.217183    36.669090   4.881457  6197.000000\n",
      "23  2020-06-07     26.862900    40.544023   6.100517  8019.000000\n",
      "24  2020-06-08     27.511552    40.878318   6.328408  8216.285714\n",
      "25  2020-06-09     28.039840    41.237700   6.188381  7844.875000\n",
      "26  2020-06-10     26.666875    36.497218   4.808010  6277.000000\n",
      "27  2020-06-11     25.837950    33.653866   3.883414  5520.250000\n",
      "28  2020-06-12     25.518057    33.588121   4.075321  5709.375000\n",
      "29  2020-06-13     26.500307    39.443575   6.347269  8254.428571\n",
      "30  2020-06-14     25.573195    36.261990   5.281814  7164.750000\n",
      "31  2020-06-15     26.655393    37.223971   4.942010  6563.714286\n",
      "32  2020-06-16     26.555194    36.591145   4.494756  6123.714286\n",
      "33  2020-06-17     25.589813    34.393416   4.247118  5757.428571\n"
     ]
    }
   ],
   "source": [
    "dataset = pd.read_csv(\"/Users/aditirajesh/Desktop/program_files/python/python_6sem/DATA_PLANTS/plant1/data15_1.csv\")\n",
    "x = dataset.iloc[:,1:4].values\n",
    "y = dataset.iloc[:,-1].values\n",
    "\n",
    "print(dataset)"
   ]
  },
  {
   "cell_type": "markdown",
   "metadata": {},
   "source": [
    "Taking care of missing data"
   ]
  },
  {
   "cell_type": "code",
   "execution_count": 50,
   "metadata": {},
   "outputs": [],
   "source": [
    "from sklearn.impute import SimpleImputer \n",
    "imputer = SimpleImputer(missing_values=np.nan,strategy='mean')   #replacing all the missing values in the dataset with the mean.\n",
    "imputer.fit(x[:,:]) #connects the imputer to the matriX of features \n",
    "x[:,:] = imputer.transform(x[:,:])"
   ]
  },
  {
   "cell_type": "markdown",
   "metadata": {},
   "source": [
    "splitting into training and test set"
   ]
  },
  {
   "cell_type": "code",
   "execution_count": 51,
   "metadata": {},
   "outputs": [],
   "source": [
    "from sklearn.model_selection import train_test_split\n",
    "x_train, x_test, y_train, y_test = train_test_split(x,y, test_size = 0.2, random_state=1)"
   ]
  },
  {
   "cell_type": "code",
   "execution_count": 52,
   "metadata": {},
   "outputs": [
    {
     "name": "stdout",
     "output_type": "stream",
     "text": [
      "[[28.04 41.24  6.19]\n",
      " [27.51 40.88  6.33]\n",
      " [25.57 36.26  5.28]\n",
      " [26.64 36.41  4.41]\n",
      " [26.22 36.67  4.88]\n",
      " [27.49 38.08  4.51]\n",
      " [29.63 42.44  5.73]\n",
      " [26.72 39.71  5.8 ]\n",
      " [26.86 40.54  6.1 ]\n",
      " [29.94 45.11  6.81]\n",
      " [26.5  39.44  6.35]\n",
      " [25.52 33.59  4.08]\n",
      " [25.98 37.3   5.37]\n",
      " [29.38 45.34  5.89]\n",
      " [29.77 43.83  6.51]\n",
      " [28.61 41.12  5.53]\n",
      " [25.59 34.39  4.25]\n",
      " [28.69 38.97  4.66]\n",
      " [27.07 37.55  4.41]\n",
      " [30.1  40.87  4.76]\n",
      " [26.88 39.17  5.47]\n",
      " [27.21 40.35  4.56]\n",
      " [29.6  43.87  6.06]\n",
      " [29.92 43.73  6.23]\n",
      " [26.66 37.22  4.94]\n",
      " [29.39 45.66  6.53]\n",
      " [29.59 41.67  5.13]]\n"
     ]
    }
   ],
   "source": [
    "print(x_train)"
   ]
  },
  {
   "cell_type": "code",
   "execution_count": 53,
   "metadata": {},
   "outputs": [
    {
     "name": "stdout",
     "output_type": "stream",
     "text": [
      "[7844.88 8216.29 7164.75 5751.   6197.   6790.   7391.   7456.5  8019.\n",
      " 8085.   8254.43 5709.38 7326.33 7598.57 8314.75 7000.   5757.43 6450.\n",
      " 5965.   6176.   7146.   8663.75 7712.   7554.75 6563.71 8394.86 6564.  ]\n"
     ]
    }
   ],
   "source": [
    "print(y_train)"
   ]
  },
  {
   "cell_type": "code",
   "execution_count": 54,
   "metadata": {},
   "outputs": [
    {
     "name": "stdout",
     "output_type": "stream",
     "text": [
      "[[28.06 44.42  6.2 ]\n",
      " [26.38 37.92  5.48]\n",
      " [25.22 33.84  3.82]\n",
      " [25.84 33.65  3.88]\n",
      " [26.56 36.59  4.49]\n",
      " [26.67 36.5   4.81]\n",
      " [27.26 40.54  6.17]]\n"
     ]
    }
   ],
   "source": [
    "print(x_test)"
   ]
  },
  {
   "cell_type": "code",
   "execution_count": 55,
   "metadata": {},
   "outputs": [
    {
     "name": "stdout",
     "output_type": "stream",
     "text": [
      "[7951.   7698.62 5286.   5520.25 6123.71 6277.   8009.  ]\n"
     ]
    }
   ],
   "source": [
    "print(y_test)"
   ]
  },
  {
   "cell_type": "code",
   "execution_count": 56,
   "metadata": {},
   "outputs": [],
   "source": [
    "from sklearn.linear_model import LinearRegression\n",
    "regressor = LinearRegression()\n",
    "model = regressor.fit(x_train, y_train)"
   ]
  },
  {
   "cell_type": "code",
   "execution_count": 57,
   "metadata": {},
   "outputs": [
    {
     "data": {
      "text/plain": [
       "0.8187919258462268"
      ]
     },
     "execution_count": 57,
     "metadata": {},
     "output_type": "execute_result"
    }
   ],
   "source": [
    "model.score(x_test,y_test)"
   ]
  },
  {
   "cell_type": "code",
   "execution_count": 58,
   "metadata": {},
   "outputs": [
    {
     "data": {
      "text/plain": [
       "0.8014869322092024"
      ]
     },
     "execution_count": 58,
     "metadata": {},
     "output_type": "execute_result"
    }
   ],
   "source": [
    "model.score(x_train,y_train)"
   ]
  },
  {
   "cell_type": "code",
   "execution_count": 59,
   "metadata": {},
   "outputs": [
    {
     "data": {
      "text/html": [
       "<style>#sk-container-id-3 {color: black;}#sk-container-id-3 pre{padding: 0;}#sk-container-id-3 div.sk-toggleable {background-color: white;}#sk-container-id-3 label.sk-toggleable__label {cursor: pointer;display: block;width: 100%;margin-bottom: 0;padding: 0.3em;box-sizing: border-box;text-align: center;}#sk-container-id-3 label.sk-toggleable__label-arrow:before {content: \"▸\";float: left;margin-right: 0.25em;color: #696969;}#sk-container-id-3 label.sk-toggleable__label-arrow:hover:before {color: black;}#sk-container-id-3 div.sk-estimator:hover label.sk-toggleable__label-arrow:before {color: black;}#sk-container-id-3 div.sk-toggleable__content {max-height: 0;max-width: 0;overflow: hidden;text-align: left;background-color: #f0f8ff;}#sk-container-id-3 div.sk-toggleable__content pre {margin: 0.2em;color: black;border-radius: 0.25em;background-color: #f0f8ff;}#sk-container-id-3 input.sk-toggleable__control:checked~div.sk-toggleable__content {max-height: 200px;max-width: 100%;overflow: auto;}#sk-container-id-3 input.sk-toggleable__control:checked~label.sk-toggleable__label-arrow:before {content: \"▾\";}#sk-container-id-3 div.sk-estimator input.sk-toggleable__control:checked~label.sk-toggleable__label {background-color: #d4ebff;}#sk-container-id-3 div.sk-label input.sk-toggleable__control:checked~label.sk-toggleable__label {background-color: #d4ebff;}#sk-container-id-3 input.sk-hidden--visually {border: 0;clip: rect(1px 1px 1px 1px);clip: rect(1px, 1px, 1px, 1px);height: 1px;margin: -1px;overflow: hidden;padding: 0;position: absolute;width: 1px;}#sk-container-id-3 div.sk-estimator {font-family: monospace;background-color: #f0f8ff;border: 1px dotted black;border-radius: 0.25em;box-sizing: border-box;margin-bottom: 0.5em;}#sk-container-id-3 div.sk-estimator:hover {background-color: #d4ebff;}#sk-container-id-3 div.sk-parallel-item::after {content: \"\";width: 100%;border-bottom: 1px solid gray;flex-grow: 1;}#sk-container-id-3 div.sk-label:hover label.sk-toggleable__label {background-color: #d4ebff;}#sk-container-id-3 div.sk-serial::before {content: \"\";position: absolute;border-left: 1px solid gray;box-sizing: border-box;top: 0;bottom: 0;left: 50%;z-index: 0;}#sk-container-id-3 div.sk-serial {display: flex;flex-direction: column;align-items: center;background-color: white;padding-right: 0.2em;padding-left: 0.2em;position: relative;}#sk-container-id-3 div.sk-item {position: relative;z-index: 1;}#sk-container-id-3 div.sk-parallel {display: flex;align-items: stretch;justify-content: center;background-color: white;position: relative;}#sk-container-id-3 div.sk-item::before, #sk-container-id-3 div.sk-parallel-item::before {content: \"\";position: absolute;border-left: 1px solid gray;box-sizing: border-box;top: 0;bottom: 0;left: 50%;z-index: -1;}#sk-container-id-3 div.sk-parallel-item {display: flex;flex-direction: column;z-index: 1;position: relative;background-color: white;}#sk-container-id-3 div.sk-parallel-item:first-child::after {align-self: flex-end;width: 50%;}#sk-container-id-3 div.sk-parallel-item:last-child::after {align-self: flex-start;width: 50%;}#sk-container-id-3 div.sk-parallel-item:only-child::after {width: 0;}#sk-container-id-3 div.sk-dashed-wrapped {border: 1px dashed gray;margin: 0 0.4em 0.5em 0.4em;box-sizing: border-box;padding-bottom: 0.4em;background-color: white;}#sk-container-id-3 div.sk-label label {font-family: monospace;font-weight: bold;display: inline-block;line-height: 1.2em;}#sk-container-id-3 div.sk-label-container {text-align: center;}#sk-container-id-3 div.sk-container {/* jupyter's `normalize.less` sets `[hidden] { display: none; }` but bootstrap.min.css set `[hidden] { display: none !important; }` so we also need the `!important` here to be able to override the default hidden behavior on the sphinx rendered scikit-learn.org. See: https://github.com/scikit-learn/scikit-learn/issues/21755 */display: inline-block !important;position: relative;}#sk-container-id-3 div.sk-text-repr-fallback {display: none;}</style><div id=\"sk-container-id-3\" class=\"sk-top-container\"><div class=\"sk-text-repr-fallback\"><pre>Lasso(alpha=50, max_iter=100, tol=0.1)</pre><b>In a Jupyter environment, please rerun this cell to show the HTML representation or trust the notebook. <br />On GitHub, the HTML representation is unable to render, please try loading this page with nbviewer.org.</b></div><div class=\"sk-container\" hidden><div class=\"sk-item\"><div class=\"sk-estimator sk-toggleable\"><input class=\"sk-toggleable__control sk-hidden--visually\" id=\"sk-estimator-id-3\" type=\"checkbox\" checked><label for=\"sk-estimator-id-3\" class=\"sk-toggleable__label sk-toggleable__label-arrow\">Lasso</label><div class=\"sk-toggleable__content\"><pre>Lasso(alpha=50, max_iter=100, tol=0.1)</pre></div></div></div></div></div>"
      ],
      "text/plain": [
       "Lasso(alpha=50, max_iter=100, tol=0.1)"
      ]
     },
     "execution_count": 59,
     "metadata": {},
     "output_type": "execute_result"
    }
   ],
   "source": [
    "from sklearn import linear_model\n",
    "lasso_reg = linear_model.Lasso(alpha=50,max_iter=100,tol=0.1)\n",
    "lasso_reg.fit(x_train,y_train)"
   ]
  },
  {
   "cell_type": "code",
   "execution_count": 60,
   "metadata": {},
   "outputs": [
    {
     "data": {
      "text/plain": [
       "0.8655873688398775"
      ]
     },
     "execution_count": 60,
     "metadata": {},
     "output_type": "execute_result"
    }
   ],
   "source": [
    "lasso_reg.score(x_test,y_test)\n"
   ]
  },
  {
   "cell_type": "code",
   "execution_count": 61,
   "metadata": {},
   "outputs": [
    {
     "data": {
      "text/plain": [
       "0.7591844707796963"
      ]
     },
     "execution_count": 61,
     "metadata": {},
     "output_type": "execute_result"
    }
   ],
   "source": [
    "lasso_reg.score(x_train,y_train)"
   ]
  },
  {
   "cell_type": "code",
   "execution_count": 62,
   "metadata": {},
   "outputs": [],
   "source": [
    "coefficients = model.coef_\n",
    "intercept = model.intercept_\n",
    "\n"
   ]
  },
  {
   "cell_type": "code",
   "execution_count": 63,
   "metadata": {},
   "outputs": [
    {
     "name": "stdout",
     "output_type": "stream",
     "text": [
      "[[8351.84 7951.  ]\n",
      " [7116.15 7698.62]\n",
      " [5885.58 5286.  ]\n",
      " [5717.69 5520.25]\n",
      " [6400.47 6123.71]\n",
      " [6476.3  6277.  ]\n",
      " [7718.39 8009.  ]]\n"
     ]
    }
   ],
   "source": [
    "y2_pred = lasso_reg.predict(x_test)\n",
    "print(np.concatenate((y2_pred.reshape(len(y2_pred),1), y_test.reshape(len(y_test),1)),1))"
   ]
  },
  {
   "cell_type": "code",
   "execution_count": 64,
   "metadata": {},
   "outputs": [
    {
     "name": "stdout",
     "output_type": "stream",
     "text": [
      "[[8833.   7951.  ]\n",
      " [7199.91 7698.62]\n",
      " [5895.12 5286.  ]\n",
      " [5519.2  5520.25]\n",
      " [6358.83 6123.71]\n",
      " [6351.79 6277.  ]\n",
      " [7856.22 8009.  ]]\n"
     ]
    }
   ],
   "source": [
    "y_pred = regressor.predict(x_test)\n",
    "y_pred_train = regressor.predict(x_train)\n",
    "np.set_printoptions(precision=2)\n",
    "print(np.concatenate((y_pred.reshape(len(y_pred),1), y_test.reshape(len(y_test),1)),1))"
   ]
  },
  {
   "cell_type": "code",
   "execution_count": 65,
   "metadata": {},
   "outputs": [
    {
     "name": "stdout",
     "output_type": "stream",
     "text": [
      "460.10624527332254\n"
     ]
    }
   ],
   "source": [
    "from sklearn.metrics import mean_squared_error\n",
    "mse = mean_squared_error(y_test,y_pred)\n",
    "rmse = np.sqrt(mse)\n",
    "print(rmse)"
   ]
  },
  {
   "cell_type": "code",
   "execution_count": 66,
   "metadata": {},
   "outputs": [
    {
     "name": "stdout",
     "output_type": "stream",
     "text": [
      "393.4495793164891\n"
     ]
    }
   ],
   "source": [
    "from sklearn.metrics import mean_squared_error\n",
    "mse = mean_squared_error(y_train,y_pred_train)\n",
    "rmse = np.sqrt(mse)\n",
    "print(rmse)"
   ]
  },
  {
   "cell_type": "code",
   "execution_count": 67,
   "metadata": {},
   "outputs": [
    {
     "name": "stdout",
     "output_type": "stream",
     "text": [
      "[{'clear_sky': {'ghi': 7979.24, 'dni': 9613.4, 'dhi': 1221.0}, 'cloudy_sky': {'ghi': 4051.7, 'dni': 1830.66, 'dhi': 2953.04}}]\n",
      "1830.66\n"
     ]
    }
   ],
   "source": [
    "response = requests.get(url_sunhours)\n",
    "data = response.json()\n",
    "irradiation_today = data['irradiance']['daily']\n",
    "print(irradiation_today)\n",
    "cloudy_sky_irr = irradiation_today[0]['cloudy_sky']['dni']\n",
    "print(cloudy_sky_irr)"
   ]
  }
 ],
 "metadata": {
  "kernelspec": {
   "display_name": "Python 3",
   "language": "python",
   "name": "python3"
  },
  "language_info": {
   "codemirror_mode": {
    "name": "ipython",
    "version": 3
   },
   "file_extension": ".py",
   "mimetype": "text/x-python",
   "name": "python",
   "nbconvert_exporter": "python",
   "pygments_lexer": "ipython3",
   "version": "3.10.4"
  }
 },
 "nbformat": 4,
 "nbformat_minor": 2
}
